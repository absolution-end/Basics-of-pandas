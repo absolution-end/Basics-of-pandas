{
  "nbformat": 4,
  "nbformat_minor": 0,
  "metadata": {
    "colab": {
      "provenance": []
    },
    "kernelspec": {
      "name": "python3",
      "display_name": "Python 3"
    },
    "language_info": {
      "name": "python"
    }
  },
  "cells": [
    {
      "cell_type": "code",
      "source": [
        "import numpy as np\n",
        "import pandas as pd\n",
        "import kagglehub\n",
        "import os\n",
        "import matplotlib.pyplot as plt"
      ],
      "metadata": {
        "id": "z1NTUbxZ3OI3"
      },
      "execution_count": 105,
      "outputs": []
    },
    {
      "cell_type": "markdown",
      "source": [
        "# Pandas \"Read & Write\"\n",
        "      I/O"
      ],
      "metadata": {
        "id": "OxeUneTe23Tl"
      }
    },
    {
      "cell_type": "markdown",
      "source": [
        "Imports"
      ],
      "metadata": {
        "id": "_y91EGb13H49"
      }
    },
    {
      "cell_type": "markdown",
      "source": [
        "read data file"
      ],
      "metadata": {
        "id": "-R2rOIkc3UTr"
      }
    },
    {
      "cell_type": "code",
      "source": [
        "read = pd.read_csv(\"/content/ratings_small.csv\")"
      ],
      "metadata": {
        "id": "ctBeNnPH4dVj"
      },
      "execution_count": 106,
      "outputs": []
    },
    {
      "cell_type": "markdown",
      "source": [
        "Write data file"
      ],
      "metadata": {
        "id": "Fx4de4cU4ryX"
      }
    },
    {
      "cell_type": "code",
      "source": [
        "write = read.to_csv(\"/content/ratings_small.csv\")"
      ],
      "metadata": {
        "id": "JUOYCNih6frA"
      },
      "execution_count": 107,
      "outputs": []
    },
    {
      "cell_type": "code",
      "source": [
        "data = read\n",
        "print(data)"
      ],
      "metadata": {
        "colab": {
          "base_uri": "https://localhost:8080/"
        },
        "id": "PtdcBl_48Yrt",
        "outputId": "9260058d-7289-4640-c1cb-88673955bc16"
      },
      "execution_count": 108,
      "outputs": [
        {
          "output_type": "stream",
          "name": "stdout",
          "text": [
            "        Unnamed: 0  userId  movieId  rating     timestamp\n",
            "0                0       1     31.0     2.5  1.260759e+09\n",
            "1                1       1   1029.0     3.0  1.260759e+09\n",
            "2                2       1   1061.0     3.0  1.260759e+09\n",
            "3                3       1   1129.0     2.0  1.260759e+09\n",
            "4                4       1   1172.0     4.0  1.260759e+09\n",
            "...            ...     ...      ...     ...           ...\n",
            "100000      100000     671   6269.0     4.0  1.065149e+09\n",
            "100001      100001     671   6365.0     4.0  1.070940e+09\n",
            "100002      100002     671   6385.0     2.5  1.070980e+09\n",
            "100003      100003     671   6565.0     3.5  1.074785e+09\n",
            "100004      100004       1   1343.0     2.0  1.260759e+09\n",
            "\n",
            "[100005 rows x 5 columns]\n"
          ]
        }
      ]
    },
    {
      "cell_type": "markdown",
      "source": [
        "# DataFrame"
      ],
      "metadata": {
        "id": "g8_WatoO8yRO"
      }
    },
    {
      "cell_type": "markdown",
      "source": [
        "The dataframe in python is nothing but 2-D array"
      ],
      "metadata": {
        "id": "k2CQ-qGM8gaP"
      }
    },
    {
      "cell_type": "code",
      "source": [
        "df = pd.DataFrame(data)\n",
        "print(df)"
      ],
      "metadata": {
        "colab": {
          "base_uri": "https://localhost:8080/"
        },
        "id": "mhFE_yLM8o99",
        "outputId": "d4306bb6-8ea1-47aa-9238-c4d4472d1a23"
      },
      "execution_count": 109,
      "outputs": [
        {
          "output_type": "stream",
          "name": "stdout",
          "text": [
            "        Unnamed: 0  userId  movieId  rating     timestamp\n",
            "0                0       1     31.0     2.5  1.260759e+09\n",
            "1                1       1   1029.0     3.0  1.260759e+09\n",
            "2                2       1   1061.0     3.0  1.260759e+09\n",
            "3                3       1   1129.0     2.0  1.260759e+09\n",
            "4                4       1   1172.0     4.0  1.260759e+09\n",
            "...            ...     ...      ...     ...           ...\n",
            "100000      100000     671   6269.0     4.0  1.065149e+09\n",
            "100001      100001     671   6365.0     4.0  1.070940e+09\n",
            "100002      100002     671   6385.0     2.5  1.070980e+09\n",
            "100003      100003     671   6565.0     3.5  1.074785e+09\n",
            "100004      100004       1   1343.0     2.0  1.260759e+09\n",
            "\n",
            "[100005 rows x 5 columns]\n"
          ]
        }
      ]
    },
    {
      "cell_type": "markdown",
      "source": [
        "Locate Row\n",
        "As you can see from the result above, the DataFrame is like a table with rows and columns.\n",
        "\n",
        "Pandas use the loc attribute to return one or more specified row(s)"
      ],
      "metadata": {
        "id": "jmLLCi019CSP"
      }
    },
    {
      "cell_type": "code",
      "source": [
        "print(df.loc[0])"
      ],
      "metadata": {
        "colab": {
          "base_uri": "https://localhost:8080/"
        },
        "id": "duMAaX869I0W",
        "outputId": "1e5e9f76-e9cd-4ed6-da40-bb6d4b310ab0"
      },
      "execution_count": 110,
      "outputs": [
        {
          "output_type": "stream",
          "name": "stdout",
          "text": [
            "Unnamed: 0    0.000000e+00\n",
            "userId        1.000000e+00\n",
            "movieId       3.100000e+01\n",
            "rating        2.500000e+00\n",
            "timestamp     1.260759e+09\n",
            "Name: 0, dtype: float64\n"
          ]
        }
      ]
    },
    {
      "cell_type": "code",
      "source": [
        "print(len(df))"
      ],
      "metadata": {
        "colab": {
          "base_uri": "https://localhost:8080/"
        },
        "id": "a1xd5Mkr9QCp",
        "outputId": "94146649-b689-47cc-8d42-c4acdaaeaca6"
      },
      "execution_count": 77,
      "outputs": [
        {
          "output_type": "stream",
          "name": "stdout",
          "text": [
            "100005\n"
          ]
        }
      ]
    },
    {
      "cell_type": "markdown",
      "source": [
        "this show there are 100004 Rows and 4 columns"
      ],
      "metadata": {
        "id": "1La2ZGiG9mDq"
      }
    },
    {
      "cell_type": "code",
      "source": [
        "print(df.shape) # (Rows, Column)"
      ],
      "metadata": {
        "colab": {
          "base_uri": "https://localhost:8080/"
        },
        "id": "Au-KkkU39VBt",
        "outputId": "b092cc50-e10c-4fc5-ad72-fcd411cb7b3f"
      },
      "execution_count": 78,
      "outputs": [
        {
          "output_type": "stream",
          "name": "stdout",
          "text": [
            "(100005, 4)\n"
          ]
        }
      ]
    },
    {
      "cell_type": "markdown",
      "source": [
        "To print Top N rows and Bottom N rows"
      ],
      "metadata": {
        "id": "jxaTsNT19aAt"
      }
    },
    {
      "cell_type": "code",
      "source": [
        "# top N rows, if you do not pass any value here, it takes 5 by default.\n",
        "print(df.head())\n",
        "# Bottom N rows, replace with desired number of rows\n",
        "print(df.tail(10))"
      ],
      "metadata": {
        "colab": {
          "base_uri": "https://localhost:8080/"
        },
        "id": "_oppXcAN9_7B",
        "outputId": "ae6800fe-234d-49d2-a2a6-211c5f4cd7cd"
      },
      "execution_count": 79,
      "outputs": [
        {
          "output_type": "stream",
          "name": "stdout",
          "text": [
            "   userId  movieId  rating     timestamp\n",
            "0       1     31.0     2.5  1.260759e+09\n",
            "1       1   1029.0     3.0  1.260759e+09\n",
            "2       1   1061.0     3.0  1.260759e+09\n",
            "3       1   1129.0     2.0  1.260759e+09\n",
            "4       1   1172.0     4.0  1.260759e+09\n",
            "        userId  movieId  rating     timestamp\n",
            "99995      671   5989.0     4.0  1.064891e+09\n",
            "99996      671   5991.0     4.5  1.064245e+09\n",
            "99997      671   5995.0     4.0  1.066793e+09\n",
            "99998      671   6212.0     2.5  1.065149e+09\n",
            "99999      671   6268.0     2.5  1.065579e+09\n",
            "100000     671   6269.0     4.0  1.065149e+09\n",
            "100001     671   6365.0     4.0  1.070940e+09\n",
            "100002     671   6385.0     2.5  1.070980e+09\n",
            "100003     671   6565.0     3.5  1.074785e+09\n",
            "100004       1   1343.0     2.0  1.260759e+09\n"
          ]
        }
      ]
    },
    {
      "cell_type": "code",
      "source": [
        "df[\"movieId\"].unique()"
      ],
      "metadata": {
        "colab": {
          "base_uri": "https://localhost:8080/"
        },
        "id": "hRPt5SP0_wMB",
        "outputId": "a67229cf-6341-44ae-fd2e-7ce1a47d34e9"
      },
      "execution_count": 80,
      "outputs": [
        {
          "output_type": "execute_result",
          "data": {
            "text/plain": [
              "array([  31., 1029., 1061., ...,  129., 4736., 6425.])"
            ]
          },
          "metadata": {},
          "execution_count": 80
        }
      ]
    },
    {
      "cell_type": "code",
      "source": [
        "df[\"movieId\"].nunique()"
      ],
      "metadata": {
        "colab": {
          "base_uri": "https://localhost:8080/"
        },
        "id": "GrfybFNfAAnY",
        "outputId": "2f6b5040-1a8f-4597-da1a-6cc59ce6a869"
      },
      "execution_count": 81,
      "outputs": [
        {
          "output_type": "execute_result",
          "data": {
            "text/plain": [
              "9066"
            ]
          },
          "metadata": {},
          "execution_count": 81
        }
      ]
    },
    {
      "cell_type": "code",
      "source": [
        "df.columns"
      ],
      "metadata": {
        "colab": {
          "base_uri": "https://localhost:8080/"
        },
        "id": "bFyfmm5IAHLo",
        "outputId": "f27b88f2-1979-400b-a07e-1330e7c5472b"
      },
      "execution_count": 82,
      "outputs": [
        {
          "output_type": "execute_result",
          "data": {
            "text/plain": [
              "Index(['userId', 'movieId', 'rating', 'timestamp'], dtype='object')"
            ]
          },
          "metadata": {},
          "execution_count": 82
        }
      ]
    },
    {
      "cell_type": "code",
      "source": [
        "df.index"
      ],
      "metadata": {
        "colab": {
          "base_uri": "https://localhost:8080/"
        },
        "id": "vuQSGQ1hANMo",
        "outputId": "3035119d-0313-439e-d810-19e58c76c614"
      },
      "execution_count": 83,
      "outputs": [
        {
          "output_type": "execute_result",
          "data": {
            "text/plain": [
              "RangeIndex(start=0, stop=100005, step=1)"
            ]
          },
          "metadata": {},
          "execution_count": 83
        }
      ]
    },
    {
      "cell_type": "code",
      "source": [
        "df.dtypes"
      ],
      "metadata": {
        "colab": {
          "base_uri": "https://localhost:8080/",
          "height": 209
        },
        "id": "q9EraqaAARYm",
        "outputId": "5934a91e-52ac-46cb-e989-bdeb03645657"
      },
      "execution_count": 84,
      "outputs": [
        {
          "output_type": "execute_result",
          "data": {
            "text/plain": [
              "userId         int64\n",
              "movieId      float64\n",
              "rating       float64\n",
              "timestamp    float64\n",
              "dtype: object"
            ],
            "text/html": [
              "<div>\n",
              "<style scoped>\n",
              "    .dataframe tbody tr th:only-of-type {\n",
              "        vertical-align: middle;\n",
              "    }\n",
              "\n",
              "    .dataframe tbody tr th {\n",
              "        vertical-align: top;\n",
              "    }\n",
              "\n",
              "    .dataframe thead th {\n",
              "        text-align: right;\n",
              "    }\n",
              "</style>\n",
              "<table border=\"1\" class=\"dataframe\">\n",
              "  <thead>\n",
              "    <tr style=\"text-align: right;\">\n",
              "      <th></th>\n",
              "      <th>0</th>\n",
              "    </tr>\n",
              "  </thead>\n",
              "  <tbody>\n",
              "    <tr>\n",
              "      <th>userId</th>\n",
              "      <td>int64</td>\n",
              "    </tr>\n",
              "    <tr>\n",
              "      <th>movieId</th>\n",
              "      <td>float64</td>\n",
              "    </tr>\n",
              "    <tr>\n",
              "      <th>rating</th>\n",
              "      <td>float64</td>\n",
              "    </tr>\n",
              "    <tr>\n",
              "      <th>timestamp</th>\n",
              "      <td>float64</td>\n",
              "    </tr>\n",
              "  </tbody>\n",
              "</table>\n",
              "</div><br><label><b>dtype:</b> object</label>"
            ]
          },
          "metadata": {},
          "execution_count": 84
        }
      ]
    },
    {
      "cell_type": "markdown",
      "source": [
        "#Stats\n",
        "`df.describe()`/\n",
        "`df.info()`/\n",
        "`df.mean()/df.median()/df.mode()/df.std()`\n"
      ],
      "metadata": {
        "id": "5VtKQQa_-aRo"
      }
    },
    {
      "cell_type": "code",
      "source": [
        "print(df.describe())"
      ],
      "metadata": {
        "colab": {
          "base_uri": "https://localhost:8080/"
        },
        "id": "8tKV3qkT-hIS",
        "outputId": "5af70e8e-ee7e-4e30-d0cd-806856559b1a"
      },
      "execution_count": 85,
      "outputs": [
        {
          "output_type": "stream",
          "name": "stdout",
          "text": [
            "              userId        movieId         rating     timestamp\n",
            "count  100005.000000   99997.000000  100005.000000  9.999700e+04\n",
            "mean      347.007850   12549.452244       3.543593  1.129652e+09\n",
            "std       195.165929   26369.952281       1.058070  1.916849e+08\n",
            "min         1.000000       1.000000       0.500000  7.896520e+08\n",
            "25%       182.000000    1028.000000       3.000000  9.658493e+08\n",
            "50%       367.000000    2407.000000       4.000000  1.110497e+09\n",
            "75%       520.000000    5418.000000       4.000000  1.296193e+09\n",
            "max       671.000000  163949.000000       5.000000  1.476641e+09\n"
          ]
        }
      ]
    },
    {
      "cell_type": "code",
      "source": [
        "print(df.info())"
      ],
      "metadata": {
        "colab": {
          "base_uri": "https://localhost:8080/"
        },
        "id": "N2HPkz2J-zz9",
        "outputId": "a91f8d93-62a8-4b51-8ff9-047242dfd002"
      },
      "execution_count": 86,
      "outputs": [
        {
          "output_type": "stream",
          "name": "stdout",
          "text": [
            "<class 'pandas.core.frame.DataFrame'>\n",
            "RangeIndex: 100005 entries, 0 to 100004\n",
            "Data columns (total 4 columns):\n",
            " #   Column     Non-Null Count   Dtype  \n",
            "---  ------     --------------   -----  \n",
            " 0   userId     100005 non-null  int64  \n",
            " 1   movieId    99997 non-null   float64\n",
            " 2   rating     100005 non-null  float64\n",
            " 3   timestamp  99997 non-null   float64\n",
            "dtypes: float64(3), int64(1)\n",
            "memory usage: 3.1 MB\n",
            "None\n"
          ]
        }
      ]
    },
    {
      "cell_type": "code",
      "source": [
        "df.mean()"
      ],
      "metadata": {
        "colab": {
          "base_uri": "https://localhost:8080/",
          "height": 209
        },
        "id": "6iel19hP--_6",
        "outputId": "4683d96e-461f-417e-b5d2-b4b626e5f436"
      },
      "execution_count": 87,
      "outputs": [
        {
          "output_type": "execute_result",
          "data": {
            "text/plain": [
              "userId       3.470078e+02\n",
              "movieId      1.254945e+04\n",
              "rating       3.543593e+00\n",
              "timestamp    1.129652e+09\n",
              "dtype: float64"
            ],
            "text/html": [
              "<div>\n",
              "<style scoped>\n",
              "    .dataframe tbody tr th:only-of-type {\n",
              "        vertical-align: middle;\n",
              "    }\n",
              "\n",
              "    .dataframe tbody tr th {\n",
              "        vertical-align: top;\n",
              "    }\n",
              "\n",
              "    .dataframe thead th {\n",
              "        text-align: right;\n",
              "    }\n",
              "</style>\n",
              "<table border=\"1\" class=\"dataframe\">\n",
              "  <thead>\n",
              "    <tr style=\"text-align: right;\">\n",
              "      <th></th>\n",
              "      <th>0</th>\n",
              "    </tr>\n",
              "  </thead>\n",
              "  <tbody>\n",
              "    <tr>\n",
              "      <th>userId</th>\n",
              "      <td>3.470078e+02</td>\n",
              "    </tr>\n",
              "    <tr>\n",
              "      <th>movieId</th>\n",
              "      <td>1.254945e+04</td>\n",
              "    </tr>\n",
              "    <tr>\n",
              "      <th>rating</th>\n",
              "      <td>3.543593e+00</td>\n",
              "    </tr>\n",
              "    <tr>\n",
              "      <th>timestamp</th>\n",
              "      <td>1.129652e+09</td>\n",
              "    </tr>\n",
              "  </tbody>\n",
              "</table>\n",
              "</div><br><label><b>dtype:</b> float64</label>"
            ]
          },
          "metadata": {},
          "execution_count": 87
        }
      ]
    },
    {
      "cell_type": "code",
      "source": [
        "df.mode()"
      ],
      "metadata": {
        "colab": {
          "base_uri": "https://localhost:8080/",
          "height": 81
        },
        "id": "qPbUhTik_DK5",
        "outputId": "0382d357-a05b-4f3f-fd98-53a85c69e563"
      },
      "execution_count": 88,
      "outputs": [
        {
          "output_type": "execute_result",
          "data": {
            "text/plain": [
              "   userId  movieId  rating     timestamp\n",
              "0     547    356.0     4.0  1.469278e+09"
            ],
            "text/html": [
              "\n",
              "  <div id=\"df-7987feb7-1e61-45e0-add4-005583e68c1e\" class=\"colab-df-container\">\n",
              "    <div>\n",
              "<style scoped>\n",
              "    .dataframe tbody tr th:only-of-type {\n",
              "        vertical-align: middle;\n",
              "    }\n",
              "\n",
              "    .dataframe tbody tr th {\n",
              "        vertical-align: top;\n",
              "    }\n",
              "\n",
              "    .dataframe thead th {\n",
              "        text-align: right;\n",
              "    }\n",
              "</style>\n",
              "<table border=\"1\" class=\"dataframe\">\n",
              "  <thead>\n",
              "    <tr style=\"text-align: right;\">\n",
              "      <th></th>\n",
              "      <th>userId</th>\n",
              "      <th>movieId</th>\n",
              "      <th>rating</th>\n",
              "      <th>timestamp</th>\n",
              "    </tr>\n",
              "  </thead>\n",
              "  <tbody>\n",
              "    <tr>\n",
              "      <th>0</th>\n",
              "      <td>547</td>\n",
              "      <td>356.0</td>\n",
              "      <td>4.0</td>\n",
              "      <td>1.469278e+09</td>\n",
              "    </tr>\n",
              "  </tbody>\n",
              "</table>\n",
              "</div>\n",
              "    <div class=\"colab-df-buttons\">\n",
              "\n",
              "  <div class=\"colab-df-container\">\n",
              "    <button class=\"colab-df-convert\" onclick=\"convertToInteractive('df-7987feb7-1e61-45e0-add4-005583e68c1e')\"\n",
              "            title=\"Convert this dataframe to an interactive table.\"\n",
              "            style=\"display:none;\">\n",
              "\n",
              "  <svg xmlns=\"http://www.w3.org/2000/svg\" height=\"24px\" viewBox=\"0 -960 960 960\">\n",
              "    <path d=\"M120-120v-720h720v720H120Zm60-500h600v-160H180v160Zm220 220h160v-160H400v160Zm0 220h160v-160H400v160ZM180-400h160v-160H180v160Zm440 0h160v-160H620v160ZM180-180h160v-160H180v160Zm440 0h160v-160H620v160Z\"/>\n",
              "  </svg>\n",
              "    </button>\n",
              "\n",
              "  <style>\n",
              "    .colab-df-container {\n",
              "      display:flex;\n",
              "      gap: 12px;\n",
              "    }\n",
              "\n",
              "    .colab-df-convert {\n",
              "      background-color: #E8F0FE;\n",
              "      border: none;\n",
              "      border-radius: 50%;\n",
              "      cursor: pointer;\n",
              "      display: none;\n",
              "      fill: #1967D2;\n",
              "      height: 32px;\n",
              "      padding: 0 0 0 0;\n",
              "      width: 32px;\n",
              "    }\n",
              "\n",
              "    .colab-df-convert:hover {\n",
              "      background-color: #E2EBFA;\n",
              "      box-shadow: 0px 1px 2px rgba(60, 64, 67, 0.3), 0px 1px 3px 1px rgba(60, 64, 67, 0.15);\n",
              "      fill: #174EA6;\n",
              "    }\n",
              "\n",
              "    .colab-df-buttons div {\n",
              "      margin-bottom: 4px;\n",
              "    }\n",
              "\n",
              "    [theme=dark] .colab-df-convert {\n",
              "      background-color: #3B4455;\n",
              "      fill: #D2E3FC;\n",
              "    }\n",
              "\n",
              "    [theme=dark] .colab-df-convert:hover {\n",
              "      background-color: #434B5C;\n",
              "      box-shadow: 0px 1px 3px 1px rgba(0, 0, 0, 0.15);\n",
              "      filter: drop-shadow(0px 1px 2px rgba(0, 0, 0, 0.3));\n",
              "      fill: #FFFFFF;\n",
              "    }\n",
              "  </style>\n",
              "\n",
              "    <script>\n",
              "      const buttonEl =\n",
              "        document.querySelector('#df-7987feb7-1e61-45e0-add4-005583e68c1e button.colab-df-convert');\n",
              "      buttonEl.style.display =\n",
              "        google.colab.kernel.accessAllowed ? 'block' : 'none';\n",
              "\n",
              "      async function convertToInteractive(key) {\n",
              "        const element = document.querySelector('#df-7987feb7-1e61-45e0-add4-005583e68c1e');\n",
              "        const dataTable =\n",
              "          await google.colab.kernel.invokeFunction('convertToInteractive',\n",
              "                                                    [key], {});\n",
              "        if (!dataTable) return;\n",
              "\n",
              "        const docLinkHtml = 'Like what you see? Visit the ' +\n",
              "          '<a target=\"_blank\" href=https://colab.research.google.com/notebooks/data_table.ipynb>data table notebook</a>'\n",
              "          + ' to learn more about interactive tables.';\n",
              "        element.innerHTML = '';\n",
              "        dataTable['output_type'] = 'display_data';\n",
              "        await google.colab.output.renderOutput(dataTable, element);\n",
              "        const docLink = document.createElement('div');\n",
              "        docLink.innerHTML = docLinkHtml;\n",
              "        element.appendChild(docLink);\n",
              "      }\n",
              "    </script>\n",
              "  </div>\n",
              "\n",
              "\n",
              "    </div>\n",
              "  </div>\n"
            ],
            "application/vnd.google.colaboratory.intrinsic+json": {
              "type": "dataframe",
              "summary": "{\n  \"name\": \"df\",\n  \"rows\": 1,\n  \"fields\": [\n    {\n      \"column\": \"userId\",\n      \"properties\": {\n        \"dtype\": \"number\",\n        \"std\": null,\n        \"min\": 547,\n        \"max\": 547,\n        \"num_unique_values\": 1,\n        \"samples\": [\n          547\n        ],\n        \"semantic_type\": \"\",\n        \"description\": \"\"\n      }\n    },\n    {\n      \"column\": \"movieId\",\n      \"properties\": {\n        \"dtype\": \"number\",\n        \"std\": null,\n        \"min\": 356.0,\n        \"max\": 356.0,\n        \"num_unique_values\": 1,\n        \"samples\": [\n          356.0\n        ],\n        \"semantic_type\": \"\",\n        \"description\": \"\"\n      }\n    },\n    {\n      \"column\": \"rating\",\n      \"properties\": {\n        \"dtype\": \"number\",\n        \"std\": null,\n        \"min\": 4.0,\n        \"max\": 4.0,\n        \"num_unique_values\": 1,\n        \"samples\": [\n          4.0\n        ],\n        \"semantic_type\": \"\",\n        \"description\": \"\"\n      }\n    },\n    {\n      \"column\": \"timestamp\",\n      \"properties\": {\n        \"dtype\": \"number\",\n        \"std\": null,\n        \"min\": 1469278482.0,\n        \"max\": 1469278482.0,\n        \"num_unique_values\": 1,\n        \"samples\": [\n          1469278482.0\n        ],\n        \"semantic_type\": \"\",\n        \"description\": \"\"\n      }\n    }\n  ]\n}"
            }
          },
          "metadata": {},
          "execution_count": 88
        }
      ]
    },
    {
      "cell_type": "code",
      "source": [
        "df.median()"
      ],
      "metadata": {
        "colab": {
          "base_uri": "https://localhost:8080/",
          "height": 209
        },
        "id": "UcVWdn0s_OUD",
        "outputId": "5a70a254-fa57-40c7-94ff-47568451a688"
      },
      "execution_count": 89,
      "outputs": [
        {
          "output_type": "execute_result",
          "data": {
            "text/plain": [
              "userId       3.670000e+02\n",
              "movieId      2.407000e+03\n",
              "rating       4.000000e+00\n",
              "timestamp    1.110497e+09\n",
              "dtype: float64"
            ],
            "text/html": [
              "<div>\n",
              "<style scoped>\n",
              "    .dataframe tbody tr th:only-of-type {\n",
              "        vertical-align: middle;\n",
              "    }\n",
              "\n",
              "    .dataframe tbody tr th {\n",
              "        vertical-align: top;\n",
              "    }\n",
              "\n",
              "    .dataframe thead th {\n",
              "        text-align: right;\n",
              "    }\n",
              "</style>\n",
              "<table border=\"1\" class=\"dataframe\">\n",
              "  <thead>\n",
              "    <tr style=\"text-align: right;\">\n",
              "      <th></th>\n",
              "      <th>0</th>\n",
              "    </tr>\n",
              "  </thead>\n",
              "  <tbody>\n",
              "    <tr>\n",
              "      <th>userId</th>\n",
              "      <td>3.670000e+02</td>\n",
              "    </tr>\n",
              "    <tr>\n",
              "      <th>movieId</th>\n",
              "      <td>2.407000e+03</td>\n",
              "    </tr>\n",
              "    <tr>\n",
              "      <th>rating</th>\n",
              "      <td>4.000000e+00</td>\n",
              "    </tr>\n",
              "    <tr>\n",
              "      <th>timestamp</th>\n",
              "      <td>1.110497e+09</td>\n",
              "    </tr>\n",
              "  </tbody>\n",
              "</table>\n",
              "</div><br><label><b>dtype:</b> float64</label>"
            ]
          },
          "metadata": {},
          "execution_count": 89
        }
      ]
    },
    {
      "cell_type": "code",
      "source": [
        "df.std()"
      ],
      "metadata": {
        "colab": {
          "base_uri": "https://localhost:8080/",
          "height": 209
        },
        "id": "VY8nQVc9_QM1",
        "outputId": "18b6e581-0f4a-4682-f409-1778a4627698"
      },
      "execution_count": 90,
      "outputs": [
        {
          "output_type": "execute_result",
          "data": {
            "text/plain": [
              "userId       1.951659e+02\n",
              "movieId      2.636995e+04\n",
              "rating       1.058070e+00\n",
              "timestamp    1.916849e+08\n",
              "dtype: float64"
            ],
            "text/html": [
              "<div>\n",
              "<style scoped>\n",
              "    .dataframe tbody tr th:only-of-type {\n",
              "        vertical-align: middle;\n",
              "    }\n",
              "\n",
              "    .dataframe tbody tr th {\n",
              "        vertical-align: top;\n",
              "    }\n",
              "\n",
              "    .dataframe thead th {\n",
              "        text-align: right;\n",
              "    }\n",
              "</style>\n",
              "<table border=\"1\" class=\"dataframe\">\n",
              "  <thead>\n",
              "    <tr style=\"text-align: right;\">\n",
              "      <th></th>\n",
              "      <th>0</th>\n",
              "    </tr>\n",
              "  </thead>\n",
              "  <tbody>\n",
              "    <tr>\n",
              "      <th>userId</th>\n",
              "      <td>1.951659e+02</td>\n",
              "    </tr>\n",
              "    <tr>\n",
              "      <th>movieId</th>\n",
              "      <td>2.636995e+04</td>\n",
              "    </tr>\n",
              "    <tr>\n",
              "      <th>rating</th>\n",
              "      <td>1.058070e+00</td>\n",
              "    </tr>\n",
              "    <tr>\n",
              "      <th>timestamp</th>\n",
              "      <td>1.916849e+08</td>\n",
              "    </tr>\n",
              "  </tbody>\n",
              "</table>\n",
              "</div><br><label><b>dtype:</b> float64</label>"
            ]
          },
          "metadata": {},
          "execution_count": 90
        }
      ]
    },
    {
      "cell_type": "code",
      "source": [],
      "metadata": {
        "id": "iO5OBvOV_gMB"
      },
      "execution_count": 90,
      "outputs": []
    },
    {
      "cell_type": "markdown",
      "source": [
        "# Name index\n",
        "With the index argument, you can name your own indexes.\n",
        "#Data Cleaning\n",
        "Data cleaning means fixing bad data in your data set.\n",
        "\n",
        "Bad data could be:\n",
        "\n",
        "Empty cells\n",
        "Data in wrong format\n",
        "Wrong data\n",
        "Duplicates"
      ],
      "metadata": {
        "id": "NjKzgPcDf8LU"
      }
    },
    {
      "cell_type": "markdown",
      "source": [
        "Empty Cells can potentially give you a wrong result when you analyze data"
      ],
      "metadata": {
        "id": "dswU8_TOgAxs"
      }
    },
    {
      "cell_type": "code",
      "source": [
        "# the drop na method will method return a DataFrame, and will not change the original.\n",
        "new = df.dropna() # If you want to make changes in main DataFrame you can use \"df.dropna(inplace = True)\"\n",
        "print(new)\n",
        "print(new.shape)\n",
        "# print(new.to_string())"
      ],
      "metadata": {
        "colab": {
          "base_uri": "https://localhost:8080/"
        },
        "id": "ZSqL_HIiF4sf",
        "outputId": "7617637b-99b4-4926-f70b-b05f590bdb31"
      },
      "execution_count": 91,
      "outputs": [
        {
          "output_type": "stream",
          "name": "stdout",
          "text": [
            "        userId  movieId  rating     timestamp\n",
            "0            1     31.0     2.5  1.260759e+09\n",
            "1            1   1029.0     3.0  1.260759e+09\n",
            "2            1   1061.0     3.0  1.260759e+09\n",
            "3            1   1129.0     2.0  1.260759e+09\n",
            "4            1   1172.0     4.0  1.260759e+09\n",
            "...        ...      ...     ...           ...\n",
            "100000     671   6269.0     4.0  1.065149e+09\n",
            "100001     671   6365.0     4.0  1.070940e+09\n",
            "100002     671   6385.0     2.5  1.070980e+09\n",
            "100003     671   6565.0     3.5  1.074785e+09\n",
            "100004       1   1343.0     2.0  1.260759e+09\n",
            "\n",
            "[99989 rows x 4 columns]\n",
            "(99989, 4)\n"
          ]
        }
      ]
    },
    {
      "cell_type": "markdown",
      "source": [
        "To find the empty"
      ],
      "metadata": {
        "id": "a6nt-si6IvP9"
      }
    },
    {
      "cell_type": "code",
      "source": [
        "# print(df.isnull().sum())\n",
        "print(df.isna().sum())\n",
        "# both the methods are same and if we use \".sum()\" in the end it will give us the total number or empty sets"
      ],
      "metadata": {
        "colab": {
          "base_uri": "https://localhost:8080/"
        },
        "id": "_WIF9w2eI3Af",
        "outputId": "8cc9e5b3-a29e-4165-f3f2-71da833160d3"
      },
      "execution_count": 92,
      "outputs": [
        {
          "output_type": "stream",
          "name": "stdout",
          "text": [
            "userId       0\n",
            "movieId      8\n",
            "rating       0\n",
            "timestamp    8\n",
            "dtype: int64\n"
          ]
        }
      ]
    },
    {
      "cell_type": "markdown",
      "source": [
        "**To replace the empty values**\n",
        "\n",
        "\n",
        "\n",
        "another way of dealing with empty cell is to insert a new value insted.\n",
        "This way you don't have to delete the entire rows just because of some empty cells.\n",
        "\n",
        "The `fillna()` method allow us to fill vale in empty cells\n",
        "\n",
        "**Filling Based on Data**\n",
        "\n",
        "Pandas provides methods for intelligent filling based on the existing data:\n",
        "- `method='ffill'` (Forward Fill): Replaces missing values with the previous valid value along the column.\n",
        "- `method='bfill'` (Backward Fill): Replaces missing values with the next valid value along the column.\n",
        "\n"
      ],
      "metadata": {
        "id": "wl86ztCLGUAD"
      }
    },
    {
      "cell_type": "code",
      "source": [
        "print(df.fillna(130,inplace = True))\n",
        "df.isna().sum()"
      ],
      "metadata": {
        "colab": {
          "base_uri": "https://localhost:8080/",
          "height": 227
        },
        "id": "O2V6UvsZHLVa",
        "outputId": "6bc28a25-3557-4542-fd04-1e2d84ae6740"
      },
      "execution_count": 93,
      "outputs": [
        {
          "output_type": "stream",
          "name": "stdout",
          "text": [
            "None\n"
          ]
        },
        {
          "output_type": "execute_result",
          "data": {
            "text/plain": [
              "userId       0\n",
              "movieId      0\n",
              "rating       0\n",
              "timestamp    0\n",
              "dtype: int64"
            ],
            "text/html": [
              "<div>\n",
              "<style scoped>\n",
              "    .dataframe tbody tr th:only-of-type {\n",
              "        vertical-align: middle;\n",
              "    }\n",
              "\n",
              "    .dataframe tbody tr th {\n",
              "        vertical-align: top;\n",
              "    }\n",
              "\n",
              "    .dataframe thead th {\n",
              "        text-align: right;\n",
              "    }\n",
              "</style>\n",
              "<table border=\"1\" class=\"dataframe\">\n",
              "  <thead>\n",
              "    <tr style=\"text-align: right;\">\n",
              "      <th></th>\n",
              "      <th>0</th>\n",
              "    </tr>\n",
              "  </thead>\n",
              "  <tbody>\n",
              "    <tr>\n",
              "      <th>userId</th>\n",
              "      <td>0</td>\n",
              "    </tr>\n",
              "    <tr>\n",
              "      <th>movieId</th>\n",
              "      <td>0</td>\n",
              "    </tr>\n",
              "    <tr>\n",
              "      <th>rating</th>\n",
              "      <td>0</td>\n",
              "    </tr>\n",
              "    <tr>\n",
              "      <th>timestamp</th>\n",
              "      <td>0</td>\n",
              "    </tr>\n",
              "  </tbody>\n",
              "</table>\n",
              "</div><br><label><b>dtype:</b> int64</label>"
            ]
          },
          "metadata": {},
          "execution_count": 93
        }
      ]
    },
    {
      "cell_type": "markdown",
      "source": [
        "See now there is no empty column or row in the CSV file"
      ],
      "metadata": {
        "id": "9old1OHGL_Te"
      }
    },
    {
      "cell_type": "markdown",
      "source": [
        "Another way to do this is to fill forward and fill backward"
      ],
      "metadata": {
        "id": "plEEjf4aMGzu"
      }
    },
    {
      "cell_type": "code",
      "source": [
        "df.fillna(method = 'ffill', inplace=True) # Replace the bfill for the backward"
      ],
      "metadata": {
        "colab": {
          "base_uri": "https://localhost:8080/"
        },
        "id": "FAeIDgpcNPy4",
        "outputId": "85111876-9fb8-4fc9-b0a9-ab0a39b4771d"
      },
      "execution_count": 94,
      "outputs": [
        {
          "output_type": "stream",
          "name": "stderr",
          "text": [
            "<ipython-input-94-724e621c61f7>:1: FutureWarning: DataFrame.fillna with 'method' is deprecated and will raise in a future version. Use obj.ffill() or obj.bfill() instead.\n",
            "  df.fillna(method = 'ffill', inplace=True) # Replace the bfill for the backward\n"
          ]
        }
      ]
    },
    {
      "cell_type": "markdown",
      "source": [
        "**Replacing values**\n",
        "\n",
        "One way to fix wrong values is to replace them with something else.\n"
      ],
      "metadata": {
        "id": "9E2MZHTDpYF9"
      }
    },
    {
      "cell_type": "code",
      "source": [
        "# Set \"moviesId\" = 6 in 7th row\n",
        "df.loc[7 , \"moviesId\"] =  6\n",
        "print(df.loc[7])"
      ],
      "metadata": {
        "colab": {
          "base_uri": "https://localhost:8080/"
        },
        "id": "BRcKZhKPpitE",
        "outputId": "edf608a4-bf9b-4613-abc2-41a7b2a735f7"
      },
      "execution_count": 95,
      "outputs": [
        {
          "output_type": "stream",
          "name": "stdout",
          "text": [
            "userId       1.000000e+00\n",
            "movieId      1.293000e+03\n",
            "rating       2.000000e+00\n",
            "timestamp    1.260759e+09\n",
            "moviesId     6.000000e+00\n",
            "Name: 7, dtype: float64\n"
          ]
        }
      ]
    },
    {
      "cell_type": "markdown",
      "source": [
        "For small data sets you might be able to replace the wrong data one by one, but not for big data sets.\n",
        "\n",
        "To replace wrong data for larger data sets you can create some rules, e.g. set some boundaries for legal values, and replace any values that are outside of the boundaries."
      ],
      "metadata": {
        "id": "mRmNDk9Hp9Zr"
      }
    },
    {
      "cell_type": "code",
      "source": [
        "# Example\n",
        "# Loop through all values in the \"moviesId\" column.\n",
        "\n",
        "# If the value is higher than 120, set it to 120:\n",
        "\n",
        "for x in df.index:\n",
        "  if df.loc[x, \"moviesId\"] > 120:\n",
        "    df.loc[x, \"moviesId\"] = 120"
      ],
      "metadata": {
        "id": "WRiwP_rrqdpV"
      },
      "execution_count": 96,
      "outputs": []
    },
    {
      "cell_type": "markdown",
      "source": [
        "**Removing Rows**\n",
        "\n",
        "Another way of handling wrong data is to remove the rows that contains wrong data.\n",
        "\n",
        "This way you do not have to find out what to replace them with, and there is a good chance you do not need them to do your analyses."
      ],
      "metadata": {
        "id": "BE2E0fA5rAoU"
      }
    },
    {
      "cell_type": "code",
      "source": [
        "# Example\n",
        "# Delete rows where \"moviesId\" is higher than 120:\n",
        "for x in df.index:\n",
        "  if df.loc[x, \"moviesId\"] > 120:\n",
        "    df.drop(x, inplace = True)"
      ],
      "metadata": {
        "id": "DxbQMHORrORt"
      },
      "execution_count": 97,
      "outputs": []
    },
    {
      "cell_type": "markdown",
      "source": [
        "# Removing Duplicates\n",
        "\n",
        "**Discovering Duplicates**\n",
        "\n",
        "**Removing Duplicates**\n"
      ],
      "metadata": {
        "id": "sHpCVIZusfDU"
      }
    },
    {
      "cell_type": "markdown",
      "source": [
        "Discovering Duplicates\n",
        "\n",
        "\n",
        "Duplicate rows are rows that have been registered more than one time.\n",
        "\n",
        "To discover duplicates, we can use the `duplicated()` method.\n",
        "\n",
        "The `duplicated()` method returns a Boolean values for each row:"
      ],
      "metadata": {
        "id": "9HqE04z4tH_I"
      }
    },
    {
      "cell_type": "code",
      "source": [
        "# Returns True for every row that is a duplicate, otherwise False:\n",
        "print(df.duplicated())\n",
        "print(df.duplicated().sum()) # This will give you total sum of duplicate here is one"
      ],
      "metadata": {
        "colab": {
          "base_uri": "https://localhost:8080/"
        },
        "id": "JCo1x3EJtbi2",
        "outputId": "f5bf1b3f-3642-4cf5-deb2-520aae86425d"
      },
      "execution_count": 101,
      "outputs": [
        {
          "output_type": "stream",
          "name": "stdout",
          "text": [
            "0         False\n",
            "1         False\n",
            "2         False\n",
            "3         False\n",
            "4         False\n",
            "          ...  \n",
            "100000    False\n",
            "100001    False\n",
            "100002    False\n",
            "100003    False\n",
            "100004     True\n",
            "Length: 100005, dtype: bool\n",
            "1\n"
          ]
        }
      ]
    },
    {
      "cell_type": "markdown",
      "source": [
        "Removing Duplicates\n",
        "\n",
        "To remove duplicates, use the drop_duplicates() method."
      ],
      "metadata": {
        "id": "HVg1t-QJtgAm"
      }
    },
    {
      "cell_type": "code",
      "source": [
        "# Remove all duplicates:\n",
        "df.drop_duplicates(inplace = True)"
      ],
      "metadata": {
        "id": "pBq3KciwuvY5"
      },
      "execution_count": 102,
      "outputs": []
    },
    {
      "cell_type": "code",
      "source": [
        "# now to check if we have any duplicate we repeate that peice of code\n",
        "print(df.duplicated().sum())"
      ],
      "metadata": {
        "colab": {
          "base_uri": "https://localhost:8080/"
        },
        "id": "OVL7EDXTvMvY",
        "outputId": "3308b0cd-a8e4-4d58-beba-2896026265c7"
      },
      "execution_count": 103,
      "outputs": [
        {
          "output_type": "stream",
          "name": "stdout",
          "text": [
            "0\n"
          ]
        }
      ]
    },
    {
      "cell_type": "markdown",
      "source": [
        "Remember: The `(inplace = True)` will make sure that the method does NOT return a new DataFrame, but it will remove all duplicates from the original DataFrame."
      ],
      "metadata": {
        "id": "QMAPlCGnw1Tl"
      }
    }
  ]
}