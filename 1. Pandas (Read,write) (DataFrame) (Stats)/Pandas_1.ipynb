{
  "nbformat": 4,
  "nbformat_minor": 0,
  "metadata": {
    "colab": {
      "provenance": []
    },
    "kernelspec": {
      "name": "python3",
      "display_name": "Python 3"
    },
    "language_info": {
      "name": "python"
    }
  },
  "cells": [
    {
      "cell_type": "code",
      "source": [
        "import numpy as np\n",
        "import pandas as pd\n",
        "import kagglehub\n",
        "import os\n",
        "import matplotlib.pyplot as plt"
      ],
      "metadata": {
        "id": "z1NTUbxZ3OI3"
      },
      "execution_count": 27,
      "outputs": []
    },
    {
      "cell_type": "markdown",
      "source": [
        "# Pandas \"Read & Write\"\n",
        "      I/O"
      ],
      "metadata": {
        "id": "OxeUneTe23Tl"
      }
    },
    {
      "cell_type": "markdown",
      "source": [
        "Imports"
      ],
      "metadata": {
        "id": "_y91EGb13H49"
      }
    },
    {
      "cell_type": "markdown",
      "source": [
        "read data file"
      ],
      "metadata": {
        "id": "-R2rOIkc3UTr"
      }
    },
    {
      "cell_type": "code",
      "source": [
        "read = pd.read_csv(\"/content/ratings_small.csv\")"
      ],
      "metadata": {
        "id": "ctBeNnPH4dVj"
      },
      "execution_count": 28,
      "outputs": []
    },
    {
      "cell_type": "markdown",
      "source": [
        "Write data file"
      ],
      "metadata": {
        "id": "Fx4de4cU4ryX"
      }
    },
    {
      "cell_type": "code",
      "source": [
        "write = read.to_csv(\"/content/ratings_small.csv\")"
      ],
      "metadata": {
        "id": "JUOYCNih6frA"
      },
      "execution_count": 29,
      "outputs": []
    },
    {
      "cell_type": "code",
      "source": [
        "data = read\n",
        "print(data)"
      ],
      "metadata": {
        "colab": {
          "base_uri": "https://localhost:8080/"
        },
        "id": "PtdcBl_48Yrt",
        "outputId": "a6e2bde0-70ed-43cb-a259-7d92e7704efb"
      },
      "execution_count": 30,
      "outputs": [
        {
          "output_type": "stream",
          "name": "stdout",
          "text": [
            "        userId  movieId  rating     timestamp\n",
            "0            1     31.0     2.5  1.260759e+09\n",
            "1            1   1029.0     3.0  1.260759e+09\n",
            "2            1   1061.0     3.0  1.260759e+09\n",
            "3            1   1129.0     2.0  1.260759e+09\n",
            "4            1   1172.0     4.0  1.260759e+09\n",
            "...        ...      ...     ...           ...\n",
            "99999      671   6268.0     2.5  1.065579e+09\n",
            "100000     671   6269.0     4.0  1.065149e+09\n",
            "100001     671   6365.0     4.0  1.070940e+09\n",
            "100002     671   6385.0     2.5  1.070980e+09\n",
            "100003     671   6565.0     3.5  1.074785e+09\n",
            "\n",
            "[100004 rows x 4 columns]\n"
          ]
        }
      ]
    },
    {
      "cell_type": "markdown",
      "source": [
        "# DataFrame"
      ],
      "metadata": {
        "id": "g8_WatoO8yRO"
      }
    },
    {
      "cell_type": "markdown",
      "source": [
        "The dataframe in python is nothing but 2-D array"
      ],
      "metadata": {
        "id": "k2CQ-qGM8gaP"
      }
    },
    {
      "cell_type": "code",
      "source": [
        "df = pd.DataFrame(data)\n",
        "print(df)"
      ],
      "metadata": {
        "colab": {
          "base_uri": "https://localhost:8080/"
        },
        "id": "mhFE_yLM8o99",
        "outputId": "00d377d4-36db-47f3-be86-6acc5e727d8b"
      },
      "execution_count": 31,
      "outputs": [
        {
          "output_type": "stream",
          "name": "stdout",
          "text": [
            "        userId  movieId  rating     timestamp\n",
            "0            1     31.0     2.5  1.260759e+09\n",
            "1            1   1029.0     3.0  1.260759e+09\n",
            "2            1   1061.0     3.0  1.260759e+09\n",
            "3            1   1129.0     2.0  1.260759e+09\n",
            "4            1   1172.0     4.0  1.260759e+09\n",
            "...        ...      ...     ...           ...\n",
            "99999      671   6268.0     2.5  1.065579e+09\n",
            "100000     671   6269.0     4.0  1.065149e+09\n",
            "100001     671   6365.0     4.0  1.070940e+09\n",
            "100002     671   6385.0     2.5  1.070980e+09\n",
            "100003     671   6565.0     3.5  1.074785e+09\n",
            "\n",
            "[100004 rows x 4 columns]\n"
          ]
        }
      ]
    },
    {
      "cell_type": "markdown",
      "source": [
        "Locate Row\n",
        "As you can see from the result above, the DataFrame is like a table with rows and columns.\n",
        "\n",
        "Pandas use the loc attribute to return one or more specified row(s)"
      ],
      "metadata": {
        "id": "jmLLCi019CSP"
      }
    },
    {
      "cell_type": "code",
      "source": [
        "print(df.loc[0])"
      ],
      "metadata": {
        "colab": {
          "base_uri": "https://localhost:8080/"
        },
        "id": "duMAaX869I0W",
        "outputId": "3c5cfe40-108e-4b65-d1e7-a22c36a04ede"
      },
      "execution_count": 32,
      "outputs": [
        {
          "output_type": "stream",
          "name": "stdout",
          "text": [
            "userId       1.000000e+00\n",
            "movieId      3.100000e+01\n",
            "rating       2.500000e+00\n",
            "timestamp    1.260759e+09\n",
            "Name: 0, dtype: float64\n"
          ]
        }
      ]
    },
    {
      "cell_type": "code",
      "source": [
        "print(len(df))"
      ],
      "metadata": {
        "colab": {
          "base_uri": "https://localhost:8080/"
        },
        "id": "a1xd5Mkr9QCp",
        "outputId": "112aeece-5adb-48d8-fa39-d25ded080bcd"
      },
      "execution_count": 33,
      "outputs": [
        {
          "output_type": "stream",
          "name": "stdout",
          "text": [
            "100004\n"
          ]
        }
      ]
    },
    {
      "cell_type": "markdown",
      "source": [
        "this show there are 100004 Rows and 4 columns"
      ],
      "metadata": {
        "id": "1La2ZGiG9mDq"
      }
    },
    {
      "cell_type": "code",
      "source": [
        "print(df.shape) # (Rows, Column)"
      ],
      "metadata": {
        "colab": {
          "base_uri": "https://localhost:8080/"
        },
        "id": "Au-KkkU39VBt",
        "outputId": "c321528f-ca29-4a06-a814-8d1fa1577425"
      },
      "execution_count": 34,
      "outputs": [
        {
          "output_type": "stream",
          "name": "stdout",
          "text": [
            "(100004, 4)\n"
          ]
        }
      ]
    },
    {
      "cell_type": "markdown",
      "source": [
        "To print Top N rows and Bottom N rows"
      ],
      "metadata": {
        "id": "jxaTsNT19aAt"
      }
    },
    {
      "cell_type": "code",
      "source": [
        "# top N rows, if you do not pass any value here, it takes 5 by default.\n",
        "print(df.head())\n",
        "# Bottom N rows, replace with desired number of rows\n",
        "print(df.tail(10))"
      ],
      "metadata": {
        "colab": {
          "base_uri": "https://localhost:8080/"
        },
        "id": "_oppXcAN9_7B",
        "outputId": "171ac6ad-00b9-436a-af9f-a6776bf7905c"
      },
      "execution_count": 35,
      "outputs": [
        {
          "output_type": "stream",
          "name": "stdout",
          "text": [
            "   userId  movieId  rating     timestamp\n",
            "0       1     31.0     2.5  1.260759e+09\n",
            "1       1   1029.0     3.0  1.260759e+09\n",
            "2       1   1061.0     3.0  1.260759e+09\n",
            "3       1   1129.0     2.0  1.260759e+09\n",
            "4       1   1172.0     4.0  1.260759e+09\n",
            "        userId  movieId  rating     timestamp\n",
            "99994      671   5952.0     5.0  1.063503e+09\n",
            "99995      671   5989.0     4.0  1.064891e+09\n",
            "99996      671   5991.0     4.5  1.064245e+09\n",
            "99997      671   5995.0     4.0  1.066793e+09\n",
            "99998      671   6212.0     2.5  1.065149e+09\n",
            "99999      671   6268.0     2.5  1.065579e+09\n",
            "100000     671   6269.0     4.0  1.065149e+09\n",
            "100001     671   6365.0     4.0  1.070940e+09\n",
            "100002     671   6385.0     2.5  1.070980e+09\n",
            "100003     671   6565.0     3.5  1.074785e+09\n"
          ]
        }
      ]
    },
    {
      "cell_type": "code",
      "source": [
        "df[\"movieId\"].unique()"
      ],
      "metadata": {
        "colab": {
          "base_uri": "https://localhost:8080/"
        },
        "id": "hRPt5SP0_wMB",
        "outputId": "a3a56610-2f5f-4b5c-b736-4b13661688a0"
      },
      "execution_count": 36,
      "outputs": [
        {
          "output_type": "execute_result",
          "data": {
            "text/plain": [
              "array([  31., 1029., 1061., ...,  129., 4736., 6425.])"
            ]
          },
          "metadata": {},
          "execution_count": 36
        }
      ]
    },
    {
      "cell_type": "code",
      "source": [
        "df[\"movieId\"].nunique()"
      ],
      "metadata": {
        "colab": {
          "base_uri": "https://localhost:8080/"
        },
        "id": "GrfybFNfAAnY",
        "outputId": "be2eebd4-6583-4ba8-c4f1-175eaf080903"
      },
      "execution_count": 37,
      "outputs": [
        {
          "output_type": "execute_result",
          "data": {
            "text/plain": [
              "9066"
            ]
          },
          "metadata": {},
          "execution_count": 37
        }
      ]
    },
    {
      "cell_type": "code",
      "source": [
        "df.columns"
      ],
      "metadata": {
        "colab": {
          "base_uri": "https://localhost:8080/"
        },
        "id": "bFyfmm5IAHLo",
        "outputId": "13e41025-613c-4096-dac1-9f22238de134"
      },
      "execution_count": 38,
      "outputs": [
        {
          "output_type": "execute_result",
          "data": {
            "text/plain": [
              "Index(['userId', 'movieId', 'rating', 'timestamp'], dtype='object')"
            ]
          },
          "metadata": {},
          "execution_count": 38
        }
      ]
    },
    {
      "cell_type": "code",
      "source": [
        "df.index"
      ],
      "metadata": {
        "colab": {
          "base_uri": "https://localhost:8080/"
        },
        "id": "vuQSGQ1hANMo",
        "outputId": "b382659d-9b9f-40f2-bf4b-5c28ca2b1656"
      },
      "execution_count": 39,
      "outputs": [
        {
          "output_type": "execute_result",
          "data": {
            "text/plain": [
              "RangeIndex(start=0, stop=100004, step=1)"
            ]
          },
          "metadata": {},
          "execution_count": 39
        }
      ]
    },
    {
      "cell_type": "code",
      "source": [
        "df.dtypes"
      ],
      "metadata": {
        "colab": {
          "base_uri": "https://localhost:8080/",
          "height": 209
        },
        "id": "q9EraqaAARYm",
        "outputId": "8859e514-385c-4163-ea4c-e5d1015dea63"
      },
      "execution_count": 40,
      "outputs": [
        {
          "output_type": "execute_result",
          "data": {
            "text/plain": [
              "userId         int64\n",
              "movieId      float64\n",
              "rating       float64\n",
              "timestamp    float64\n",
              "dtype: object"
            ],
            "text/html": [
              "<div>\n",
              "<style scoped>\n",
              "    .dataframe tbody tr th:only-of-type {\n",
              "        vertical-align: middle;\n",
              "    }\n",
              "\n",
              "    .dataframe tbody tr th {\n",
              "        vertical-align: top;\n",
              "    }\n",
              "\n",
              "    .dataframe thead th {\n",
              "        text-align: right;\n",
              "    }\n",
              "</style>\n",
              "<table border=\"1\" class=\"dataframe\">\n",
              "  <thead>\n",
              "    <tr style=\"text-align: right;\">\n",
              "      <th></th>\n",
              "      <th>0</th>\n",
              "    </tr>\n",
              "  </thead>\n",
              "  <tbody>\n",
              "    <tr>\n",
              "      <th>userId</th>\n",
              "      <td>int64</td>\n",
              "    </tr>\n",
              "    <tr>\n",
              "      <th>movieId</th>\n",
              "      <td>float64</td>\n",
              "    </tr>\n",
              "    <tr>\n",
              "      <th>rating</th>\n",
              "      <td>float64</td>\n",
              "    </tr>\n",
              "    <tr>\n",
              "      <th>timestamp</th>\n",
              "      <td>float64</td>\n",
              "    </tr>\n",
              "  </tbody>\n",
              "</table>\n",
              "</div><br><label><b>dtype:</b> object</label>"
            ]
          },
          "metadata": {},
          "execution_count": 40
        }
      ]
    },
    {
      "cell_type": "markdown",
      "source": [
        "#Stats\n",
        "`df.describe()`/\n",
        "`df.info()`/\n",
        "`df.mean()/df.median()/df.mode()/df.std()`\n"
      ],
      "metadata": {
        "id": "5VtKQQa_-aRo"
      }
    },
    {
      "cell_type": "code",
      "source": [
        "print(df.describe())"
      ],
      "metadata": {
        "colab": {
          "base_uri": "https://localhost:8080/"
        },
        "id": "8tKV3qkT-hIS",
        "outputId": "3722f0de-7de1-4ccf-ebcd-81afd3008c93"
      },
      "execution_count": 41,
      "outputs": [
        {
          "output_type": "stream",
          "name": "stdout",
          "text": [
            "              userId        movieId         rating     timestamp\n",
            "count  100004.000000   99996.000000  100004.000000  9.999600e+04\n",
            "mean      347.011310   12549.564313       3.543608  1.129651e+09\n",
            "std       195.163838   26370.060324       1.058064  1.916854e+08\n",
            "min         1.000000       1.000000       0.500000  7.896520e+08\n",
            "25%       182.000000    1028.000000       3.000000  9.658492e+08\n",
            "50%       367.000000    2407.000000       4.000000  1.110497e+09\n",
            "75%       520.000000    5418.000000       4.000000  1.296193e+09\n",
            "max       671.000000  163949.000000       5.000000  1.476641e+09\n"
          ]
        }
      ]
    },
    {
      "cell_type": "code",
      "source": [
        "print(df.info())"
      ],
      "metadata": {
        "colab": {
          "base_uri": "https://localhost:8080/"
        },
        "id": "N2HPkz2J-zz9",
        "outputId": "9aa501f5-c18b-4935-f70d-bbe92ae1f935"
      },
      "execution_count": 42,
      "outputs": [
        {
          "output_type": "stream",
          "name": "stdout",
          "text": [
            "<class 'pandas.core.frame.DataFrame'>\n",
            "RangeIndex: 100004 entries, 0 to 100003\n",
            "Data columns (total 4 columns):\n",
            " #   Column     Non-Null Count   Dtype  \n",
            "---  ------     --------------   -----  \n",
            " 0   userId     100004 non-null  int64  \n",
            " 1   movieId    99996 non-null   float64\n",
            " 2   rating     100004 non-null  float64\n",
            " 3   timestamp  99996 non-null   float64\n",
            "dtypes: float64(3), int64(1)\n",
            "memory usage: 3.1 MB\n",
            "None\n"
          ]
        }
      ]
    },
    {
      "cell_type": "code",
      "source": [
        "df.mean()"
      ],
      "metadata": {
        "colab": {
          "base_uri": "https://localhost:8080/",
          "height": 209
        },
        "id": "6iel19hP--_6",
        "outputId": "be283d38-7658-434c-94a0-338759ca3cce"
      },
      "execution_count": 43,
      "outputs": [
        {
          "output_type": "execute_result",
          "data": {
            "text/plain": [
              "userId       3.470113e+02\n",
              "movieId      1.254956e+04\n",
              "rating       3.543608e+00\n",
              "timestamp    1.129651e+09\n",
              "dtype: float64"
            ],
            "text/html": [
              "<div>\n",
              "<style scoped>\n",
              "    .dataframe tbody tr th:only-of-type {\n",
              "        vertical-align: middle;\n",
              "    }\n",
              "\n",
              "    .dataframe tbody tr th {\n",
              "        vertical-align: top;\n",
              "    }\n",
              "\n",
              "    .dataframe thead th {\n",
              "        text-align: right;\n",
              "    }\n",
              "</style>\n",
              "<table border=\"1\" class=\"dataframe\">\n",
              "  <thead>\n",
              "    <tr style=\"text-align: right;\">\n",
              "      <th></th>\n",
              "      <th>0</th>\n",
              "    </tr>\n",
              "  </thead>\n",
              "  <tbody>\n",
              "    <tr>\n",
              "      <th>userId</th>\n",
              "      <td>3.470113e+02</td>\n",
              "    </tr>\n",
              "    <tr>\n",
              "      <th>movieId</th>\n",
              "      <td>1.254956e+04</td>\n",
              "    </tr>\n",
              "    <tr>\n",
              "      <th>rating</th>\n",
              "      <td>3.543608e+00</td>\n",
              "    </tr>\n",
              "    <tr>\n",
              "      <th>timestamp</th>\n",
              "      <td>1.129651e+09</td>\n",
              "    </tr>\n",
              "  </tbody>\n",
              "</table>\n",
              "</div><br><label><b>dtype:</b> float64</label>"
            ]
          },
          "metadata": {},
          "execution_count": 43
        }
      ]
    },
    {
      "cell_type": "code",
      "source": [
        "df.mode()"
      ],
      "metadata": {
        "colab": {
          "base_uri": "https://localhost:8080/",
          "height": 81
        },
        "id": "qPbUhTik_DK5",
        "outputId": "39821a55-ea09-402b-d7fa-7e1e5410f963"
      },
      "execution_count": 44,
      "outputs": [
        {
          "output_type": "execute_result",
          "data": {
            "text/plain": [
              "   userId  movieId  rating     timestamp\n",
              "0     547    356.0     4.0  1.469278e+09"
            ],
            "text/html": [
              "\n",
              "  <div id=\"df-a387c19b-9db7-48b1-8fa1-9112fa18fb5c\" class=\"colab-df-container\">\n",
              "    <div>\n",
              "<style scoped>\n",
              "    .dataframe tbody tr th:only-of-type {\n",
              "        vertical-align: middle;\n",
              "    }\n",
              "\n",
              "    .dataframe tbody tr th {\n",
              "        vertical-align: top;\n",
              "    }\n",
              "\n",
              "    .dataframe thead th {\n",
              "        text-align: right;\n",
              "    }\n",
              "</style>\n",
              "<table border=\"1\" class=\"dataframe\">\n",
              "  <thead>\n",
              "    <tr style=\"text-align: right;\">\n",
              "      <th></th>\n",
              "      <th>userId</th>\n",
              "      <th>movieId</th>\n",
              "      <th>rating</th>\n",
              "      <th>timestamp</th>\n",
              "    </tr>\n",
              "  </thead>\n",
              "  <tbody>\n",
              "    <tr>\n",
              "      <th>0</th>\n",
              "      <td>547</td>\n",
              "      <td>356.0</td>\n",
              "      <td>4.0</td>\n",
              "      <td>1.469278e+09</td>\n",
              "    </tr>\n",
              "  </tbody>\n",
              "</table>\n",
              "</div>\n",
              "    <div class=\"colab-df-buttons\">\n",
              "\n",
              "  <div class=\"colab-df-container\">\n",
              "    <button class=\"colab-df-convert\" onclick=\"convertToInteractive('df-a387c19b-9db7-48b1-8fa1-9112fa18fb5c')\"\n",
              "            title=\"Convert this dataframe to an interactive table.\"\n",
              "            style=\"display:none;\">\n",
              "\n",
              "  <svg xmlns=\"http://www.w3.org/2000/svg\" height=\"24px\" viewBox=\"0 -960 960 960\">\n",
              "    <path d=\"M120-120v-720h720v720H120Zm60-500h600v-160H180v160Zm220 220h160v-160H400v160Zm0 220h160v-160H400v160ZM180-400h160v-160H180v160Zm440 0h160v-160H620v160ZM180-180h160v-160H180v160Zm440 0h160v-160H620v160Z\"/>\n",
              "  </svg>\n",
              "    </button>\n",
              "\n",
              "  <style>\n",
              "    .colab-df-container {\n",
              "      display:flex;\n",
              "      gap: 12px;\n",
              "    }\n",
              "\n",
              "    .colab-df-convert {\n",
              "      background-color: #E8F0FE;\n",
              "      border: none;\n",
              "      border-radius: 50%;\n",
              "      cursor: pointer;\n",
              "      display: none;\n",
              "      fill: #1967D2;\n",
              "      height: 32px;\n",
              "      padding: 0 0 0 0;\n",
              "      width: 32px;\n",
              "    }\n",
              "\n",
              "    .colab-df-convert:hover {\n",
              "      background-color: #E2EBFA;\n",
              "      box-shadow: 0px 1px 2px rgba(60, 64, 67, 0.3), 0px 1px 3px 1px rgba(60, 64, 67, 0.15);\n",
              "      fill: #174EA6;\n",
              "    }\n",
              "\n",
              "    .colab-df-buttons div {\n",
              "      margin-bottom: 4px;\n",
              "    }\n",
              "\n",
              "    [theme=dark] .colab-df-convert {\n",
              "      background-color: #3B4455;\n",
              "      fill: #D2E3FC;\n",
              "    }\n",
              "\n",
              "    [theme=dark] .colab-df-convert:hover {\n",
              "      background-color: #434B5C;\n",
              "      box-shadow: 0px 1px 3px 1px rgba(0, 0, 0, 0.15);\n",
              "      filter: drop-shadow(0px 1px 2px rgba(0, 0, 0, 0.3));\n",
              "      fill: #FFFFFF;\n",
              "    }\n",
              "  </style>\n",
              "\n",
              "    <script>\n",
              "      const buttonEl =\n",
              "        document.querySelector('#df-a387c19b-9db7-48b1-8fa1-9112fa18fb5c button.colab-df-convert');\n",
              "      buttonEl.style.display =\n",
              "        google.colab.kernel.accessAllowed ? 'block' : 'none';\n",
              "\n",
              "      async function convertToInteractive(key) {\n",
              "        const element = document.querySelector('#df-a387c19b-9db7-48b1-8fa1-9112fa18fb5c');\n",
              "        const dataTable =\n",
              "          await google.colab.kernel.invokeFunction('convertToInteractive',\n",
              "                                                    [key], {});\n",
              "        if (!dataTable) return;\n",
              "\n",
              "        const docLinkHtml = 'Like what you see? Visit the ' +\n",
              "          '<a target=\"_blank\" href=https://colab.research.google.com/notebooks/data_table.ipynb>data table notebook</a>'\n",
              "          + ' to learn more about interactive tables.';\n",
              "        element.innerHTML = '';\n",
              "        dataTable['output_type'] = 'display_data';\n",
              "        await google.colab.output.renderOutput(dataTable, element);\n",
              "        const docLink = document.createElement('div');\n",
              "        docLink.innerHTML = docLinkHtml;\n",
              "        element.appendChild(docLink);\n",
              "      }\n",
              "    </script>\n",
              "  </div>\n",
              "\n",
              "\n",
              "    </div>\n",
              "  </div>\n"
            ],
            "application/vnd.google.colaboratory.intrinsic+json": {
              "type": "dataframe",
              "summary": "{\n  \"name\": \"df\",\n  \"rows\": 1,\n  \"fields\": [\n    {\n      \"column\": \"userId\",\n      \"properties\": {\n        \"dtype\": \"number\",\n        \"std\": null,\n        \"min\": 547,\n        \"max\": 547,\n        \"num_unique_values\": 1,\n        \"samples\": [\n          547\n        ],\n        \"semantic_type\": \"\",\n        \"description\": \"\"\n      }\n    },\n    {\n      \"column\": \"movieId\",\n      \"properties\": {\n        \"dtype\": \"number\",\n        \"std\": null,\n        \"min\": 356.0,\n        \"max\": 356.0,\n        \"num_unique_values\": 1,\n        \"samples\": [\n          356.0\n        ],\n        \"semantic_type\": \"\",\n        \"description\": \"\"\n      }\n    },\n    {\n      \"column\": \"rating\",\n      \"properties\": {\n        \"dtype\": \"number\",\n        \"std\": null,\n        \"min\": 4.0,\n        \"max\": 4.0,\n        \"num_unique_values\": 1,\n        \"samples\": [\n          4.0\n        ],\n        \"semantic_type\": \"\",\n        \"description\": \"\"\n      }\n    },\n    {\n      \"column\": \"timestamp\",\n      \"properties\": {\n        \"dtype\": \"number\",\n        \"std\": null,\n        \"min\": 1469278482.0,\n        \"max\": 1469278482.0,\n        \"num_unique_values\": 1,\n        \"samples\": [\n          1469278482.0\n        ],\n        \"semantic_type\": \"\",\n        \"description\": \"\"\n      }\n    }\n  ]\n}"
            }
          },
          "metadata": {},
          "execution_count": 44
        }
      ]
    },
    {
      "cell_type": "code",
      "source": [
        "df.median()"
      ],
      "metadata": {
        "colab": {
          "base_uri": "https://localhost:8080/",
          "height": 209
        },
        "id": "UcVWdn0s_OUD",
        "outputId": "a40de619-c876-4c8a-e62f-bf5d65f6e530"
      },
      "execution_count": 45,
      "outputs": [
        {
          "output_type": "execute_result",
          "data": {
            "text/plain": [
              "userId       3.670000e+02\n",
              "movieId      2.407000e+03\n",
              "rating       4.000000e+00\n",
              "timestamp    1.110497e+09\n",
              "dtype: float64"
            ],
            "text/html": [
              "<div>\n",
              "<style scoped>\n",
              "    .dataframe tbody tr th:only-of-type {\n",
              "        vertical-align: middle;\n",
              "    }\n",
              "\n",
              "    .dataframe tbody tr th {\n",
              "        vertical-align: top;\n",
              "    }\n",
              "\n",
              "    .dataframe thead th {\n",
              "        text-align: right;\n",
              "    }\n",
              "</style>\n",
              "<table border=\"1\" class=\"dataframe\">\n",
              "  <thead>\n",
              "    <tr style=\"text-align: right;\">\n",
              "      <th></th>\n",
              "      <th>0</th>\n",
              "    </tr>\n",
              "  </thead>\n",
              "  <tbody>\n",
              "    <tr>\n",
              "      <th>userId</th>\n",
              "      <td>3.670000e+02</td>\n",
              "    </tr>\n",
              "    <tr>\n",
              "      <th>movieId</th>\n",
              "      <td>2.407000e+03</td>\n",
              "    </tr>\n",
              "    <tr>\n",
              "      <th>rating</th>\n",
              "      <td>4.000000e+00</td>\n",
              "    </tr>\n",
              "    <tr>\n",
              "      <th>timestamp</th>\n",
              "      <td>1.110497e+09</td>\n",
              "    </tr>\n",
              "  </tbody>\n",
              "</table>\n",
              "</div><br><label><b>dtype:</b> float64</label>"
            ]
          },
          "metadata": {},
          "execution_count": 45
        }
      ]
    },
    {
      "cell_type": "code",
      "source": [
        "df.std()"
      ],
      "metadata": {
        "colab": {
          "base_uri": "https://localhost:8080/",
          "height": 209
        },
        "id": "VY8nQVc9_QM1",
        "outputId": "3bb2a5e9-8811-43d7-e0db-8d27e9ad7156"
      },
      "execution_count": 46,
      "outputs": [
        {
          "output_type": "execute_result",
          "data": {
            "text/plain": [
              "userId       1.951638e+02\n",
              "movieId      2.637006e+04\n",
              "rating       1.058064e+00\n",
              "timestamp    1.916854e+08\n",
              "dtype: float64"
            ],
            "text/html": [
              "<div>\n",
              "<style scoped>\n",
              "    .dataframe tbody tr th:only-of-type {\n",
              "        vertical-align: middle;\n",
              "    }\n",
              "\n",
              "    .dataframe tbody tr th {\n",
              "        vertical-align: top;\n",
              "    }\n",
              "\n",
              "    .dataframe thead th {\n",
              "        text-align: right;\n",
              "    }\n",
              "</style>\n",
              "<table border=\"1\" class=\"dataframe\">\n",
              "  <thead>\n",
              "    <tr style=\"text-align: right;\">\n",
              "      <th></th>\n",
              "      <th>0</th>\n",
              "    </tr>\n",
              "  </thead>\n",
              "  <tbody>\n",
              "    <tr>\n",
              "      <th>userId</th>\n",
              "      <td>1.951638e+02</td>\n",
              "    </tr>\n",
              "    <tr>\n",
              "      <th>movieId</th>\n",
              "      <td>2.637006e+04</td>\n",
              "    </tr>\n",
              "    <tr>\n",
              "      <th>rating</th>\n",
              "      <td>1.058064e+00</td>\n",
              "    </tr>\n",
              "    <tr>\n",
              "      <th>timestamp</th>\n",
              "      <td>1.916854e+08</td>\n",
              "    </tr>\n",
              "  </tbody>\n",
              "</table>\n",
              "</div><br><label><b>dtype:</b> float64</label>"
            ]
          },
          "metadata": {},
          "execution_count": 46
        }
      ]
    },
    {
      "cell_type": "code",
      "source": [],
      "metadata": {
        "id": "iO5OBvOV_gMB"
      },
      "execution_count": 46,
      "outputs": []
    },
    {
      "cell_type": "markdown",
      "source": [
        "# Name index\n",
        "With the index argument, you can name your own indexes.\n",
        "#Data Cleaning\n",
        "Data cleaning means fixing bad data in your data set.\n",
        "\n",
        "Bad data could be:\n",
        "\n",
        "Empty cells\n",
        "Data in wrong format\n",
        "Wrong data\n",
        "Duplicates"
      ],
      "metadata": {
        "id": "NjKzgPcDf8LU"
      }
    },
    {
      "cell_type": "markdown",
      "source": [
        "Empty Cells can potentially give you a wrong result when you analyze data"
      ],
      "metadata": {
        "id": "dswU8_TOgAxs"
      }
    },
    {
      "cell_type": "code",
      "source": [
        "# the drop na method will method return a DataFrame, and will not change the original.\n",
        "new = df.dropna() # If you want to make changes in main DataFrame you can use \"df.dropna(inplace = True)\"\n",
        "print(new)\n",
        "print(new.shape)\n",
        "# print(new.to_string())"
      ],
      "metadata": {
        "colab": {
          "base_uri": "https://localhost:8080/"
        },
        "id": "ZSqL_HIiF4sf",
        "outputId": "0d8ce5ac-5cb5-4be0-e9c4-a320041128ea"
      },
      "execution_count": 48,
      "outputs": [
        {
          "output_type": "stream",
          "name": "stdout",
          "text": [
            "        userId  movieId  rating     timestamp\n",
            "0            1     31.0     2.5  1.260759e+09\n",
            "1            1   1029.0     3.0  1.260759e+09\n",
            "2            1   1061.0     3.0  1.260759e+09\n",
            "3            1   1129.0     2.0  1.260759e+09\n",
            "4            1   1172.0     4.0  1.260759e+09\n",
            "...        ...      ...     ...           ...\n",
            "99999      671   6268.0     2.5  1.065579e+09\n",
            "100000     671   6269.0     4.0  1.065149e+09\n",
            "100001     671   6365.0     4.0  1.070940e+09\n",
            "100002     671   6385.0     2.5  1.070980e+09\n",
            "100003     671   6565.0     3.5  1.074785e+09\n",
            "\n",
            "[99988 rows x 4 columns]\n",
            "(99988, 4)\n"
          ]
        }
      ]
    },
    {
      "cell_type": "markdown",
      "source": [
        "To find the empty"
      ],
      "metadata": {
        "id": "a6nt-si6IvP9"
      }
    },
    {
      "cell_type": "code",
      "source": [
        "# print(df.isnull().sum())\n",
        "print(df.isna().sum())\n",
        "# both the methods are same and if we use \".sum()\" in the end it will give us the total number or empty sets"
      ],
      "metadata": {
        "colab": {
          "base_uri": "https://localhost:8080/"
        },
        "id": "_WIF9w2eI3Af",
        "outputId": "bdadce33-21f6-428d-e34f-9efeaf925db4"
      },
      "execution_count": 53,
      "outputs": [
        {
          "output_type": "stream",
          "name": "stdout",
          "text": [
            "userId       0\n",
            "movieId      8\n",
            "rating       0\n",
            "timestamp    8\n",
            "dtype: int64\n"
          ]
        }
      ]
    },
    {
      "cell_type": "markdown",
      "source": [
        "**To replace the empty values**\n",
        "\n",
        "\n",
        "\n",
        "another way of dealing with empty cell is to insert a new value insted.\n",
        "This way you don't have to delete the entire rows just because of some empty cells.\n",
        "\n",
        "The `fillna()` method allow us to fill vale in empty cells\n",
        "\n",
        "**Filling Based on Data**\n",
        "\n",
        "Pandas provides methods for intelligent filling based on the existing data:\n",
        "- `method='ffill'` (Forward Fill): Replaces missing values with the previous valid value along the column.\n",
        "- `method='bfill'` (Backward Fill): Replaces missing values with the next valid value along the column.\n",
        "\n"
      ],
      "metadata": {
        "id": "wl86ztCLGUAD"
      }
    },
    {
      "cell_type": "code",
      "source": [
        "print(df.fillna(130,inplace = True))\n",
        "df.isna().sum()"
      ],
      "metadata": {
        "colab": {
          "base_uri": "https://localhost:8080/",
          "height": 227
        },
        "id": "O2V6UvsZHLVa",
        "outputId": "cb68f71a-42e5-4c1b-fc9f-044c5b9f4181"
      },
      "execution_count": 59,
      "outputs": [
        {
          "output_type": "stream",
          "name": "stdout",
          "text": [
            "None\n"
          ]
        },
        {
          "output_type": "execute_result",
          "data": {
            "text/plain": [
              "userId       0\n",
              "movieId      0\n",
              "rating       0\n",
              "timestamp    0\n",
              "dtype: int64"
            ],
            "text/html": [
              "<div>\n",
              "<style scoped>\n",
              "    .dataframe tbody tr th:only-of-type {\n",
              "        vertical-align: middle;\n",
              "    }\n",
              "\n",
              "    .dataframe tbody tr th {\n",
              "        vertical-align: top;\n",
              "    }\n",
              "\n",
              "    .dataframe thead th {\n",
              "        text-align: right;\n",
              "    }\n",
              "</style>\n",
              "<table border=\"1\" class=\"dataframe\">\n",
              "  <thead>\n",
              "    <tr style=\"text-align: right;\">\n",
              "      <th></th>\n",
              "      <th>0</th>\n",
              "    </tr>\n",
              "  </thead>\n",
              "  <tbody>\n",
              "    <tr>\n",
              "      <th>userId</th>\n",
              "      <td>0</td>\n",
              "    </tr>\n",
              "    <tr>\n",
              "      <th>movieId</th>\n",
              "      <td>0</td>\n",
              "    </tr>\n",
              "    <tr>\n",
              "      <th>rating</th>\n",
              "      <td>0</td>\n",
              "    </tr>\n",
              "    <tr>\n",
              "      <th>timestamp</th>\n",
              "      <td>0</td>\n",
              "    </tr>\n",
              "  </tbody>\n",
              "</table>\n",
              "</div><br><label><b>dtype:</b> int64</label>"
            ]
          },
          "metadata": {},
          "execution_count": 59
        }
      ]
    },
    {
      "cell_type": "markdown",
      "source": [
        "See now there is no empty column or row in the CSV file"
      ],
      "metadata": {
        "id": "9old1OHGL_Te"
      }
    },
    {
      "cell_type": "markdown",
      "source": [
        "Another way to do this is to fill forward and fill backward"
      ],
      "metadata": {
        "id": "plEEjf4aMGzu"
      }
    },
    {
      "cell_type": "code",
      "source": [
        "df.fillna(method = 'ffill', inplace=True) # Replace the bfill for the backward"
      ],
      "metadata": {
        "colab": {
          "base_uri": "https://localhost:8080/"
        },
        "id": "FAeIDgpcNPy4",
        "outputId": "63a4e4e2-a84f-4763-e461-e64b274e3f55"
      },
      "execution_count": 60,
      "outputs": [
        {
          "output_type": "stream",
          "name": "stderr",
          "text": [
            "<ipython-input-60-724e621c61f7>:1: FutureWarning: DataFrame.fillna with 'method' is deprecated and will raise in a future version. Use obj.ffill() or obj.bfill() instead.\n",
            "  df.fillna(method = 'ffill', inplace=True) # Replace the bfill for the backward\n"
          ]
        }
      ]
    }
  ]
}